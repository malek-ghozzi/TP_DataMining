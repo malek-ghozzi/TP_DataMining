{
 "cells": [
  {
   "cell_type": "code",
   "execution_count": null,
   "metadata": {},
   "outputs": [],
   "source": [
    "#!python -m pip install -U scikit-image\n",
    "#conda install -c conda-forge ipympl"
   ]
  },
  {
   "cell_type": "code",
   "execution_count": 1,
   "metadata": {},
   "outputs": [
    {
     "data": {
      "application/vnd.jupyter.widget-view+json": {
       "model_id": "751befbddb654081bcc274b170972953",
       "version_major": 2,
       "version_minor": 0
      },
      "text/plain": [
       "Canvas(toolbar=Toolbar(toolitems=[('Home', 'Reset original view', 'home', 'home'), ('Back', 'Back to previous …"
      ]
     },
     "metadata": {},
     "output_type": "display_data"
    }
   ],
   "source": [
    "%matplotlib widget\n",
    "import skimage.io\n",
    "import matplotlib.pyplot as plt\n",
    "import ipywidgets as widgets\n",
    "from ipywidgets import interact\n",
    "import numpy as np\n",
    "import cv2\n",
    "from sklearn.cluster import KMeans\n",
    "from sklearn.cluster import MiniBatchKMeans\n",
    "import skimage.io\n",
    "import matplotlib.pyplot as plt\n",
    "import pandas as pd\n",
    "import scipy.ndimage\n",
    "from scipy.cluster.vq import kmeans, vq\n",
    "import seaborn as sns\n",
    "\n",
    "image = cv2.imread('eleph.jpg')\n",
    "(h1, w1) = image.shape[:2]\n",
    "\n",
    "image = cv2.cvtColor(image, cv2.COLOR_BGR2LAB)\n",
    "\n",
    "image = image.reshape((image.shape[0] * image.shape[1], 3))\n",
    "\n",
    "clt = KMeans(n_clusters = 2)\n",
    "\n",
    "labels = clt.fit_predict(image)\n",
    "quant = clt.cluster_centers_.astype(\"uint8\")[labels]\n",
    "\n",
    "#reshape the feature vectors to images\n",
    "quant = quant.reshape((h1, w1, 3))\n",
    "image = image.reshape((h1, w1, 3))\n",
    "\n",
    "# convert from L*a*b* to RGB\n",
    "quant = cv2.cvtColor(quant, cv2.COLOR_LAB2BGR)\n",
    "image = cv2.cvtColor(image, cv2.COLOR_LAB2BGR)\n",
    "\n",
    "cv2.imwrite('eleph2.jpg', quant)\n",
    "image0 = cv2.imread('eleph2.jpg')\n",
    "\n",
    "plt.figure(num = 1, figsize = (5,5))\n",
    "plt.imshow(image0)\n",
    "\n",
    "cv2.imread('eleph.jpg')\n",
    "cv2.waitKey(0)\n",
    "cv2.destroyAllWindows()"
   ]
  },
  {
   "cell_type": "code",
   "execution_count": 2,
   "metadata": {},
   "outputs": [
    {
     "data": {
      "application/vnd.jupyter.widget-view+json": {
       "model_id": "35897127da984e75929deb12c23e2b2e",
       "version_major": 2,
       "version_minor": 0
      },
      "text/plain": [
       "Canvas(toolbar=Toolbar(toolitems=[('Home', 'Reset original view', 'home', 'home'), ('Back', 'Back to previous …"
      ]
     },
     "metadata": {},
     "output_type": "display_data"
    },
    {
     "data": {
      "text/plain": [
       "<matplotlib.image.AxesImage at 0x7f013f1096a0>"
      ]
     },
     "execution_count": 2,
     "metadata": {},
     "output_type": "execute_result"
    }
   ],
   "source": [
    "plt.figure(num = 2, figsize = (5,5))\n",
    "plt.imshow(image)"
   ]
  },
  {
   "cell_type": "code",
   "execution_count": 3,
   "metadata": {},
   "outputs": [],
   "source": [
    "#!pip install opencv-python"
   ]
  },
  {
   "cell_type": "markdown",
   "metadata": {},
   "source": [
    "# 1 - Noise And Filtring"
   ]
  },
  {
   "cell_type": "code",
   "execution_count": 4,
   "metadata": {},
   "outputs": [
    {
     "data": {
      "application/vnd.jupyter.widget-view+json": {
       "model_id": "4bec1b9c44a94f07b4a02e99fd5a9c0d",
       "version_major": 2,
       "version_minor": 0
      },
      "text/plain": [
       "interactive(children=(Dropdown(description='Choisir votre noise', options={'Gaussian': 'gaussian', 'Localvar':…"
      ]
     },
     "metadata": {},
     "output_type": "display_data"
    }
   ],
   "source": [
    "img_path=\"image.jpg\"\n",
    "img = skimage.io.imread(img_path)/255.0\n",
    "\n",
    "@interact(mode=widgets.Dropdown(options={\"Gaussian\": \"gaussian\",\n",
    "                                  \"Localvar\": \"localvar\",\n",
    "                                  \"Poisson\": \"poisson\",\n",
    "                                   \"Salt\": \"salt\",\n",
    "                                   \"Pepper\": \"pepper\",\n",
    "                                   \"s&p\": \"s&p\",\n",
    "                                   \"Speckle\": \"speckle\"\n",
    "                                  },\n",
    "                          description='Choisir votre noise',\n",
    "    value='gaussian',\n",
    "    disabled=False))\n",
    "\n",
    "def plotnoise(mode='gaussian'):\n",
    "    #plt.subplot(r,c,i)\n",
    "    plt.clf()\n",
    "    if mode is not None:\n",
    "        \n",
    "        gimg = skimage.util.random_noise(img, mode=mode)\n",
    "        \n",
    "\n",
    "        normal = cv2.normalize(gimg, None, 0, 255, cv2.NORM_MINMAX, cv2.CV_8U)\n",
    "        filtred = cv2.medianBlur(normal, 3)\n",
    "        \n",
    "        plt.figure(num = 3)\n",
    "        \n",
    "        plt.subplot(221)\n",
    "        plt.imshow(img)\n",
    "        plt.title('Orginal')\n",
    "        plt.axis(\"off\")\n",
    "        \n",
    "        plt.subplot(223)\n",
    "        plt.imshow(gimg)\n",
    "        plt.title(mode)\n",
    "        plt.axis(\"off\")\n",
    "        \n",
    "        plt.subplot(224)\n",
    "        plt.imshow(filtred)\n",
    "        plt.title(\"filtrted\")\n",
    "        plt.axis(\"off\")\n",
    "    else:\n",
    "        plt.figure(num = 3, figsize = (5,5))\n",
    "        plt.imshow(img)\n",
    "    \n",
    "    plt.show()"
   ]
  },
  {
   "cell_type": "markdown",
   "metadata": {},
   "source": [
    "## 2 - Using K-means for segmenting an Image"
   ]
  },
  {
   "cell_type": "code",
   "execution_count": 5,
   "metadata": {},
   "outputs": [
    {
     "data": {
      "application/vnd.jupyter.widget-view+json": {
       "model_id": "bb2780b315e745a99d81aa99ed22372a",
       "version_major": 2,
       "version_minor": 0
      },
      "text/plain": [
       "Canvas(toolbar=Toolbar(toolitems=[('Home', 'Reset original view', 'home', 'home'), ('Back', 'Back to previous …"
      ]
     },
     "metadata": {},
     "output_type": "display_data"
    }
   ],
   "source": [
    "image = cv2.imread('image.jpg')\n",
    "image = cv2.cvtColor(image, cv2.COLOR_BGR2RGB)\n",
    "\n",
    "r = []\n",
    "g = []\n",
    "b = []\n",
    " \n",
    "for row in image:\n",
    "    for pixel in row:\n",
    "        # A pixel contains RGB values\n",
    "        r.append(pixel[0])\n",
    "        g.append(pixel[1])\n",
    "        b.append(pixel[2])\n",
    " \n",
    "df = pd.DataFrame({'red':r, 'green':g, 'blue':b})\n",
    "\n",
    "distortions = []\n",
    "num_clusters = range(1, 7)\n",
    " \n",
    "# Create a list of distortions from the kmeans function\n",
    "for i in num_clusters:\n",
    "    cluster_centers, distortion = kmeans(df[['red','green','blue']].values.astype(float), i)\n",
    "    distortions.append(distortion)\n",
    " \n",
    "# Create a data frame with two lists - num_clusters, distortions\n",
    "elbow_plot = pd.DataFrame({'num_clusters': num_clusters, 'distortions': distortions})\n",
    " \n",
    "# Creat a line plot of num_clusters and distortions\n",
    "plt.figure(num = 4, figsize=(5,5))\n",
    "sns.lineplot(x='num_clusters', y='distortions', data = elbow_plot)\n",
    "\n",
    "plt.xticks(num_clusters)\n",
    "plt.title('Elbow plot')\n",
    "plt.show()"
   ]
  },
  {
   "cell_type": "code",
   "execution_count": 6,
   "metadata": {},
   "outputs": [
    {
     "data": {
      "application/vnd.jupyter.widget-view+json": {
       "model_id": "6faa63d0e37f428da39ab91933e02c86",
       "version_major": 2,
       "version_minor": 0
      },
      "text/plain": [
       "Canvas(toolbar=Toolbar(toolitems=[('Home', 'Reset original view', 'home', 'home'), ('Back', 'Back to previous …"
      ]
     },
     "metadata": {},
     "output_type": "display_data"
    },
    {
     "data": {
      "application/vnd.jupyter.widget-view+json": {
       "model_id": "62de96688d60425d82c3f0570ae2a757",
       "version_major": 2,
       "version_minor": 0
      },
      "text/plain": [
       "interactive(children=(IntSlider(value=2, description='k', max=6, min=1), Output()), _dom_classes=('widget-inte…"
      ]
     },
     "metadata": {},
     "output_type": "display_data"
    }
   ],
   "source": [
    "fig = plt.figure()\n",
    "path = 'image.jpg'\n",
    "img = cv2.imread(path)\n",
    "img = cv2.cvtColor(img,cv2.COLOR_BGR2RGB)\n",
    "twoDimage = img.reshape((-1,3))\n",
    "twoDimage = np.float32(twoDimage)\n",
    "criteria = (cv2.TERM_CRITERIA_EPS + cv2.TERM_CRITERIA_MAX_ITER, 10, 1.0)\n",
    "attempts=10\n",
    "\n",
    "@interact(k=widgets.IntSlider(min=1, max=6, step=1, value=2))\n",
    "def image_segmentation(k):\n",
    "    plt.clf()\n",
    "    \n",
    "    \n",
    "    ret,label,center=cv2.kmeans(twoDimage,k,None,criteria,attempts,cv2.KMEANS_PP_CENTERS)\n",
    "    center = np.uint8(center)\n",
    "    res = center[label.flatten()]\n",
    "    result_image = res.reshape((img.shape))\n",
    "    plt.imshow(result_image)\n"
   ]
  },
  {
   "cell_type": "code",
   "execution_count": null,
   "metadata": {},
   "outputs": [],
   "source": []
  }
 ],
 "metadata": {
  "kernelspec": {
   "display_name": "Python 3",
   "language": "python",
   "name": "python3"
  },
  "language_info": {
   "codemirror_mode": {
    "name": "ipython",
    "version": 3
   },
   "file_extension": ".py",
   "mimetype": "text/x-python",
   "name": "python",
   "nbconvert_exporter": "python",
   "pygments_lexer": "ipython3",
   "version": "3.8.5"
  }
 },
 "nbformat": 4,
 "nbformat_minor": 4
}
