{
 "cells": [
  {
   "cell_type": "code",
   "execution_count": 9,
   "metadata": {},
   "outputs": [
    {
     "name": "stdout",
     "output_type": "stream",
     "text": [
      "Collecting scikit-image\n",
      "  Downloading scikit_image-0.18.3-cp38-cp38-manylinux_2_5_x86_64.manylinux1_x86_64.whl (30.2 MB)\n",
      "\u001b[K     |████████████████████████████████| 30.2 MB 26 kB/s  eta 0:00:01     |██████████████                  | 13.1 MB 288 kB/s eta 0:01:00\n",
      "\u001b[?25hRequirement already satisfied, skipping upgrade: numpy>=1.16.5 in /home/user/anaconda3/lib/python3.8/site-packages (from scikit-image) (1.19.2)\n",
      "Requirement already satisfied, skipping upgrade: networkx>=2.0 in /home/user/anaconda3/lib/python3.8/site-packages (from scikit-image) (2.5)\n",
      "Requirement already satisfied, skipping upgrade: matplotlib!=3.0.0,>=2.0.0 in /home/user/anaconda3/lib/python3.8/site-packages (from scikit-image) (3.3.2)\n",
      "Requirement already satisfied, skipping upgrade: PyWavelets>=1.1.1 in /home/user/anaconda3/lib/python3.8/site-packages (from scikit-image) (1.1.1)\n",
      "Requirement already satisfied, skipping upgrade: tifffile>=2019.7.26 in /home/user/anaconda3/lib/python3.8/site-packages (from scikit-image) (2020.10.1)\n",
      "Requirement already satisfied, skipping upgrade: pillow!=7.1.0,!=7.1.1,>=4.3.0 in /home/user/anaconda3/lib/python3.8/site-packages (from scikit-image) (8.0.1)\n",
      "Requirement already satisfied, skipping upgrade: imageio>=2.3.0 in /home/user/anaconda3/lib/python3.8/site-packages (from scikit-image) (2.9.0)\n",
      "Requirement already satisfied, skipping upgrade: scipy>=1.0.1 in /home/user/anaconda3/lib/python3.8/site-packages (from scikit-image) (1.5.2)\n",
      "Requirement already satisfied, skipping upgrade: decorator>=4.3.0 in /home/user/anaconda3/lib/python3.8/site-packages (from networkx>=2.0->scikit-image) (4.4.2)\n",
      "Requirement already satisfied, skipping upgrade: kiwisolver>=1.0.1 in /home/user/anaconda3/lib/python3.8/site-packages (from matplotlib!=3.0.0,>=2.0.0->scikit-image) (1.3.0)\n",
      "Requirement already satisfied, skipping upgrade: cycler>=0.10 in /home/user/anaconda3/lib/python3.8/site-packages (from matplotlib!=3.0.0,>=2.0.0->scikit-image) (0.10.0)\n",
      "Requirement already satisfied, skipping upgrade: python-dateutil>=2.1 in /home/user/anaconda3/lib/python3.8/site-packages (from matplotlib!=3.0.0,>=2.0.0->scikit-image) (2.8.1)\n",
      "Requirement already satisfied, skipping upgrade: certifi>=2020.06.20 in /home/user/anaconda3/lib/python3.8/site-packages (from matplotlib!=3.0.0,>=2.0.0->scikit-image) (2020.6.20)\n",
      "Requirement already satisfied, skipping upgrade: pyparsing!=2.0.4,!=2.1.2,!=2.1.6,>=2.0.3 in /home/user/anaconda3/lib/python3.8/site-packages (from matplotlib!=3.0.0,>=2.0.0->scikit-image) (2.4.7)\n",
      "Requirement already satisfied, skipping upgrade: six in /home/user/anaconda3/lib/python3.8/site-packages (from cycler>=0.10->matplotlib!=3.0.0,>=2.0.0->scikit-image) (1.15.0)\n",
      "Installing collected packages: scikit-image\n",
      "  Attempting uninstall: scikit-image\n",
      "    Found existing installation: scikit-image 0.17.2\n",
      "    Uninstalling scikit-image-0.17.2:\n",
      "      Successfully uninstalled scikit-image-0.17.2\n",
      "Successfully installed scikit-image-0.18.3\n"
     ]
    }
   ],
   "source": [
    "!python -m pip install -U scikit-image\n",
    "#conda install -c conda-forge ipympl"
   ]
  },
  {
   "cell_type": "code",
   "execution_count": 47,
   "metadata": {},
   "outputs": [
    {
     "data": {
      "application/vnd.jupyter.widget-view+json": {
       "model_id": "7664372774ff49239bc973d9fb3ea8a5",
       "version_major": 2,
       "version_minor": 0
      },
      "text/plain": [
       "Canvas(toolbar=Toolbar(toolitems=[('Home', 'Reset original view', 'home', 'home'), ('Back', 'Back to previous …"
      ]
     },
     "metadata": {},
     "output_type": "display_data"
    }
   ],
   "source": [
    "%matplotlib widget\n",
    "import numpy as np\n",
    "import cv2\n",
    "from sklearn.cluster import KMeans\n",
    "from scipy.cluster.vq import kmeans,vq,whiten\n",
    "from sklearn.cluster import MiniBatchKMeans\n",
    "import ipywidgets as widgets\n",
    "from ipywidgets import interact, interactive, fixed, interact_manual\n",
    "import scipy.ndimage\n",
    "import scipy\n",
    "import skimage.io\n",
    "import matplotlib.pyplot as plt\n",
    "import pandas as pd\n",
    "\n",
    "image = cv2.imread('eleph.jpg')\n",
    "(h1, w1) = image.shape[:2]\n",
    "\n",
    "image = cv2.cvtColor(image, cv2.COLOR_BGR2LAB)\n",
    "\n",
    "image = image.reshape((image.shape[0] * image.shape[1], 3))\n",
    "\n",
    "clt = KMeans(n_clusters = 2)\n",
    "\n",
    "labels = clt.fit_predict(image)\n",
    "quant = clt.cluster_centers_.astype(\"uint8\")[labels]\n",
    "\n",
    "#reshape the feature vectors to images\n",
    "quant = quant.reshape((h1, w1, 3))\n",
    "image = image.reshape((h1, w1, 3))\n",
    "\n",
    "# convert from L*a*b* to RGB\n",
    "quant = cv2.cvtColor(quant, cv2.COLOR_LAB2BGR)\n",
    "image = cv2.cvtColor(image, cv2.COLOR_LAB2BGR)\n",
    "\n",
    "cv2.imwrite('eleph2.jpg', quant)\n",
    "image0 = cv2.imread('eleph2.jpg')\n",
    "\n",
    "cv2.imwrite('eleph2.jpg', quant)\n",
    "plt.imshow(image0)\n",
    "\n",
    "cv2.imread('eleph.jpg')\n",
    "cv2.waitKey(0)\n",
    "cv2.destroyAllWindows()"
   ]
  },
  {
   "cell_type": "code",
   "execution_count": 49,
   "metadata": {},
   "outputs": [
    {
     "data": {
      "text/plain": [
       "<matplotlib.image.AxesImage at 0x7f4da6fbce50>"
      ]
     },
     "execution_count": 49,
     "metadata": {},
     "output_type": "execute_result"
    }
   ],
   "source": [
    "plt.imshow(image)"
   ]
  },
  {
   "cell_type": "code",
   "execution_count": 15,
   "metadata": {},
   "outputs": [
    {
     "name": "stdout",
     "output_type": "stream",
     "text": [
      "Requirement already satisfied: opencv-python in /home/user/anaconda3/lib/python3.8/site-packages (4.5.4.58)\r\n",
      "Requirement already satisfied: numpy>=1.17.3 in /home/user/anaconda3/lib/python3.8/site-packages (from opencv-python) (1.19.2)\r\n"
     ]
    }
   ],
   "source": [
    "!pip install opencv-python"
   ]
  },
  {
   "cell_type": "code",
   "execution_count": 50,
   "metadata": {},
   "outputs": [
    {
     "data": {
      "application/vnd.jupyter.widget-view+json": {
       "model_id": "4b081051dc134d7988ffb55906a2e54c",
       "version_major": 2,
       "version_minor": 0
      },
      "text/plain": [
       "Canvas(toolbar=Toolbar(toolitems=[('Home', 'Reset original view', 'home', 'home'), ('Back', 'Back to previous …"
      ]
     },
     "metadata": {},
     "output_type": "display_data"
    }
   ],
   "source": [
    "import skimage.io\n",
    "import matplotlib.pyplot as plt\n",
    "img_path=\"eleph.jpg\"\n",
    "img = skimage.io.imread(img_path)/255.0\n",
    "\n",
    "def plotnoise(img, mode, r, c, i):\n",
    "    plt.subplot(r,c,i)\n",
    "    if mode is not None:\n",
    "        gimg = skimage.util.random_noise(img, mode=mode)\n",
    "        plt.imshow(gimg)\n",
    "    else:\n",
    "        plt.imshow(img)\n",
    "    plt.title(mode)\n",
    "    plt.axis(\"off\")\n",
    "\n",
    "plt.figure(figsize=(18,24))\n",
    "r=4\n",
    "c=2\n",
    "plotnoise(img, \"gaussian\", r,c,1)\n",
    "plotnoise(img, \"localvar\", r,c,2)\n",
    "plotnoise(img, \"poisson\", r,c,3)\n",
    "plotnoise(img, \"salt\", r,c,4)\n",
    "plotnoise(img, \"pepper\", r,c,5)\n",
    "plotnoise(img, \"s&p\", r,c,6)\n",
    "plotnoise(img, \"speckle\", r,c,7)\n",
    "plotnoise(img, None, r,c,8)\n",
    "plt.show()\n"
   ]
  },
  {
   "cell_type": "markdown",
   "metadata": {},
   "source": [
    "# Noise And Filring"
   ]
  },
  {
   "cell_type": "code",
   "execution_count": 51,
   "metadata": {},
   "outputs": [
    {
     "data": {
      "application/vnd.jupyter.widget-view+json": {
       "model_id": "dca841d3db6e4b1a8dbf853c27a894e2",
       "version_major": 2,
       "version_minor": 0
      },
      "text/plain": [
       "interactive(children=(Dropdown(description='Filtres:', options=('gaussian', 'localvar', 'poisson', 'salt', 'pe…"
      ]
     },
     "metadata": {},
     "output_type": "display_data"
    }
   ],
   "source": [
    "img_path=\"image.jpg\"\n",
    "img = skimage.io.imread(img_path)/255.0\n",
    "@interact(mode=widgets.Dropdown(options=['gaussian', 'localvar', 'poisson','salt','pepper','s&p'],\n",
    "    value='gaussian',\n",
    "    description='Filtres:',\n",
    "    \n",
    "    disabled=False))\n",
    "def plotnoise(mode):\n",
    "    plt.clf()\n",
    "    \n",
    "    if mode is not None:\n",
    "        gimg = skimage.util.random_noise(img, mode=mode)\n",
    "        if mode=='gaussian':\n",
    "            flt='gaussian'\n",
    "            img_modified = scipy.ndimage.filters.gaussian_filter(gimg, sigma=1.0)\n",
    "     \n",
    "        if mode in ['s&p','salt','pepper','localvar']:\n",
    "\n",
    "            img_modified = cv2.normalize(gimg, None, 0, 255, cv2.NORM_MINMAX, cv2.CV_8U)\n",
    "            \n",
    "            img_modified = cv2.medianBlur(img_modified,3)\n",
    "            flt='median'\n",
    "        if mode=='poisson':\n",
    "            img_modified = new_image = cv2.blur(gimg,(9,9))\n",
    "            flt='mean'\n",
    "        \n",
    "        plt.subplot(131)\n",
    "        plt.imshow(img)\n",
    "        plt.title('Orginal')\n",
    "        plt.axis(\"off\")\n",
    "        \n",
    "        plt.subplot(132)\n",
    "        plt.imshow(img_modified)\n",
    "        plt.title('mean')\n",
    "        plt.axis(\"off\")\n",
    "        \n",
    "        plt.subplot(133)\n",
    "        plt.imshow(gimg)\n",
    "        plt.title(mode)\n",
    "        plt.axis(\"off\")\n",
    "       \n",
    "        \n",
    "    else:\n",
    "        plt.imshow(img)\n",
    "    \n",
    "    \n",
    "    plt.show()"
   ]
  },
  {
   "cell_type": "code",
   "execution_count": 52,
   "metadata": {},
   "outputs": [
    {
     "data": {
      "application/vnd.jupyter.widget-view+json": {
       "model_id": "7aa7e315be884057ae075b6d4183dee4",
       "version_major": 2,
       "version_minor": 0
      },
      "text/plain": [
       "Canvas(toolbar=Toolbar(toolitems=[('Home', 'Reset original view', 'home', 'home'), ('Back', 'Back to previous …"
      ]
     },
     "metadata": {},
     "output_type": "display_data"
    },
    {
     "data": {
      "application/vnd.jupyter.widget-view+json": {
       "model_id": "fa37148c0b0d478a9437b65a699f24af",
       "version_major": 2,
       "version_minor": 0
      },
      "text/plain": [
       "interactive(children=(IntSlider(value=2, description='k', max=10, min=2), Output()), _dom_classes=('widget-int…"
      ]
     },
     "metadata": {},
     "output_type": "display_data"
    }
   ],
   "source": [
    "fig = plt.figure()\n",
    "path = 'image.jpg'\n",
    "img = cv2.imread(path)\n",
    "img = cv2.cvtColor(img,cv2.COLOR_BGR2RGB)\n",
    "twoDimage = img.reshape((-1,3))\n",
    "twoDimage = np.float32(twoDimage)\n",
    "criteria = (cv2.TERM_CRITERIA_EPS + cv2.TERM_CRITERIA_MAX_ITER, 10, 1.0)\n",
    "attempts=10\n",
    "\n",
    "@interact(k=widgets.IntSlider(min=2, max=10, step=1, value=2))\n",
    "def image_segmentation(k):\n",
    "    plt.clf()\n",
    "    \n",
    "    \n",
    "    ret,label,center=cv2.kmeans(twoDimage,k,None,criteria,attempts,cv2.KMEANS_PP_CENTERS)\n",
    "    center = np.uint8(center)\n",
    "    res = center[label.flatten()]\n",
    "    result_image = res.reshape((img.shape))\n",
    "    plt.imshow(result_image)\n"
   ]
  },
  {
   "cell_type": "code",
   "execution_count": 53,
   "metadata": {},
   "outputs": [],
   "source": [
    "import matplotlib.image as img\n",
    "import seaborn as sns\n",
    "\n",
    "image = img.imread('image.jpg')\n",
    "\n",
    "\n",
    "r = []\n",
    "g = []\n",
    "b = []\n",
    "for row in image:\n",
    "    for pixel in row:\n",
    "        # A pixel contains RGB values\n",
    "        temp_r, temp_g, temp_b = pixel\n",
    "        r.append(temp_r)\n",
    "        g.append(temp_g)\n",
    "        b.append(temp_b)\n",
    "pixels = pd.DataFrame({'scaled_red': whiten(r),\n",
    "'scaled_blue': whiten(b),\n",
    "'scaled_green': whiten(g),'red': r,\n",
    "'blue': b,\n",
    "'green': g})\n",
    "distortions = []\n",
    "num_clusters = range(2, 7)\n",
    "# Create a list of distortions from the kmeans method\n",
    "for i in num_clusters:\n",
    "    cluster_centers, distortion = kmeans(pixels[['scaled_red', 'scaled_blue',\n",
    "'scaled_green']], i)\n",
    "    distortions.append(distortion)\n",
    "# Create a data frame with two lists - number of clusters and distortions\n",
    "elbow_plot = pd.DataFrame({'num_clusters': num_clusters,\n",
    "'distortions': distortions})\n",
    "# Creat a line plot of num_clusters and distortions\n",
    "sns.lineplot(x='num_clusters', y='distortions', data = elbow_plot)\n",
    "plt.xticks(num_clusters)\n",
    "plt.show()"
   ]
  },
  {
   "cell_type": "code",
   "execution_count": null,
   "metadata": {},
   "outputs": [],
   "source": []
  }
 ],
 "metadata": {
  "kernelspec": {
   "display_name": "Python 3",
   "language": "python",
   "name": "python3"
  },
  "language_info": {
   "codemirror_mode": {
    "name": "ipython",
    "version": 3
   },
   "file_extension": ".py",
   "mimetype": "text/x-python",
   "name": "python",
   "nbconvert_exporter": "python",
   "pygments_lexer": "ipython3",
   "version": "3.8.5"
  }
 },
 "nbformat": 4,
 "nbformat_minor": 4
}
